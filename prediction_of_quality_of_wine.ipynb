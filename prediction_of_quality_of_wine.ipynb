{
  "metadata": {
    "language_info": {
      "name": "python",
      "mimetype": "text/x-python",
      "file_extension": ".py",
      "nbconvert_exporter": "python",
      "version": "3.6.4",
      "codemirror_mode": {
        "name": "ipython",
        "version": 3
      },
      "pygments_lexer": "ipython3"
    },
    "kernelspec": {
      "name": "python3",
      "language": "python",
      "display_name": "Python 3"
    },
    "colab": {
      "provenance": [],
      "include_colab_link": true
    }
  },
  "nbformat_minor": 0,
  "nbformat": 4,
  "cells": [
    {
      "cell_type": "markdown",
      "metadata": {
        "id": "view-in-github",
        "colab_type": "text"
      },
      "source": [
        "<a href=\"https://colab.research.google.com/github/chinmaykulkarni19/Quality-Wine-Prediction/blob/main/prediction_of_quality_of_wine.ipynb\" target=\"_parent\"><img src=\"https://colab.research.google.com/assets/colab-badge.svg\" alt=\"Open In Colab\"/></a>"
      ]
    },
    {
      "cell_type": "markdown",
      "source": [
        "\n",
        "\n",
        "*In this notebook, First I have done some exploration on the data using matplotlib and seaborn.\n",
        "Then, I use different classifier models to predict the quality of the wine.*\n",
        "\n",
        "**1. Random Forest Classifier**\n",
        "\n",
        "**2. Support Vector Classifier(SVC) **\n",
        "\n",
        "*Then I use cross validation evaluation technique to optimize the model performance.*\n",
        "\n",
        "**1. Grid Search CV**\n",
        "\n",
        "**2. Cross Validation Score**\n"
      ],
      "metadata": {
        "_cell_guid": "6876755d-3552-491d-b416-a012fbe221e4",
        "_uuid": "0b46910d15d98513ea81fb24e0f8ab28134c5f5f",
        "id": "r2OZHBwfDu6c"
      }
    },
    {
      "cell_type": "code",
      "source": [
        "#Importing required packages.\n",
        "import pandas as pd\n",
        "import seaborn as sns   #statistical visualizations, such as heatmaps, distribution plots, and regression plots.\n",
        "import matplotlib.pyplot as plt #for creating static, interactive, and animated visualizations in Python\n",
        "import io\n",
        "from sklearn.ensemble import RandomForestClassifier   # It provides a wide range of tools for various tasks such as classification, regression, clustering, model selection, and data preprocessing\n",
        "from sklearn.svm import SVC\n",
        "from sklearn.linear_model import SGDClassifier\n",
        "from sklearn.metrics import confusion_matrix, classification_report\n",
        "from sklearn.preprocessing import StandardScaler, LabelEncoder\n",
        "from sklearn.model_selection import train_test_split, GridSearchCV, cross_val_score\n",
        "%matplotlib inline"
      ],
      "metadata": {
        "_cell_guid": "87c7b371-53b1-4d4d-bfbd-373d2b84b33a",
        "_uuid": "da5343fb3f6b3942909c94bf8e2add04fd3ff1a3",
        "collapsed": true,
        "jupyter": {
          "outputs_hidden": true
        },
        "id": "Ubt_xjOvDu6f"
      },
      "execution_count": null,
      "outputs": []
    },
    {
      "cell_type": "code",
      "source": [
        "from google.colab import files\n",
        " \n",
        " \n",
        "uploaded = files.upload()"
      ],
      "metadata": {
        "colab": {
          "base_uri": "https://localhost:8080/",
          "height": 73
        },
        "id": "KPyj4buJEszU",
        "outputId": "5ef64648-eef4-4049-fd1a-f03810c4b86b"
      },
      "execution_count": null,
      "outputs": [
        {
          "output_type": "display_data",
          "data": {
            "text/plain": [
              "<IPython.core.display.HTML object>"
            ],
            "text/html": [
              "\n",
              "     <input type=\"file\" id=\"files-6abe4a19-330b-4d1b-931d-d4986bdf2ff6\" name=\"files[]\" multiple disabled\n",
              "        style=\"border:none\" />\n",
              "     <output id=\"result-6abe4a19-330b-4d1b-931d-d4986bdf2ff6\">\n",
              "      Upload widget is only available when the cell has been executed in the\n",
              "      current browser session. Please rerun this cell to enable.\n",
              "      </output>\n",
              "      <script>// Copyright 2017 Google LLC\n",
              "//\n",
              "// Licensed under the Apache License, Version 2.0 (the \"License\");\n",
              "// you may not use this file except in compliance with the License.\n",
              "// You may obtain a copy of the License at\n",
              "//\n",
              "//      http://www.apache.org/licenses/LICENSE-2.0\n",
              "//\n",
              "// Unless required by applicable law or agreed to in writing, software\n",
              "// distributed under the License is distributed on an \"AS IS\" BASIS,\n",
              "// WITHOUT WARRANTIES OR CONDITIONS OF ANY KIND, either express or implied.\n",
              "// See the License for the specific language governing permissions and\n",
              "// limitations under the License.\n",
              "\n",
              "/**\n",
              " * @fileoverview Helpers for google.colab Python module.\n",
              " */\n",
              "(function(scope) {\n",
              "function span(text, styleAttributes = {}) {\n",
              "  const element = document.createElement('span');\n",
              "  element.textContent = text;\n",
              "  for (const key of Object.keys(styleAttributes)) {\n",
              "    element.style[key] = styleAttributes[key];\n",
              "  }\n",
              "  return element;\n",
              "}\n",
              "\n",
              "// Max number of bytes which will be uploaded at a time.\n",
              "const MAX_PAYLOAD_SIZE = 100 * 1024;\n",
              "\n",
              "function _uploadFiles(inputId, outputId) {\n",
              "  const steps = uploadFilesStep(inputId, outputId);\n",
              "  const outputElement = document.getElementById(outputId);\n",
              "  // Cache steps on the outputElement to make it available for the next call\n",
              "  // to uploadFilesContinue from Python.\n",
              "  outputElement.steps = steps;\n",
              "\n",
              "  return _uploadFilesContinue(outputId);\n",
              "}\n",
              "\n",
              "// This is roughly an async generator (not supported in the browser yet),\n",
              "// where there are multiple asynchronous steps and the Python side is going\n",
              "// to poll for completion of each step.\n",
              "// This uses a Promise to block the python side on completion of each step,\n",
              "// then passes the result of the previous step as the input to the next step.\n",
              "function _uploadFilesContinue(outputId) {\n",
              "  const outputElement = document.getElementById(outputId);\n",
              "  const steps = outputElement.steps;\n",
              "\n",
              "  const next = steps.next(outputElement.lastPromiseValue);\n",
              "  return Promise.resolve(next.value.promise).then((value) => {\n",
              "    // Cache the last promise value to make it available to the next\n",
              "    // step of the generator.\n",
              "    outputElement.lastPromiseValue = value;\n",
              "    return next.value.response;\n",
              "  });\n",
              "}\n",
              "\n",
              "/**\n",
              " * Generator function which is called between each async step of the upload\n",
              " * process.\n",
              " * @param {string} inputId Element ID of the input file picker element.\n",
              " * @param {string} outputId Element ID of the output display.\n",
              " * @return {!Iterable<!Object>} Iterable of next steps.\n",
              " */\n",
              "function* uploadFilesStep(inputId, outputId) {\n",
              "  const inputElement = document.getElementById(inputId);\n",
              "  inputElement.disabled = false;\n",
              "\n",
              "  const outputElement = document.getElementById(outputId);\n",
              "  outputElement.innerHTML = '';\n",
              "\n",
              "  const pickedPromise = new Promise((resolve) => {\n",
              "    inputElement.addEventListener('change', (e) => {\n",
              "      resolve(e.target.files);\n",
              "    });\n",
              "  });\n",
              "\n",
              "  const cancel = document.createElement('button');\n",
              "  inputElement.parentElement.appendChild(cancel);\n",
              "  cancel.textContent = 'Cancel upload';\n",
              "  const cancelPromise = new Promise((resolve) => {\n",
              "    cancel.onclick = () => {\n",
              "      resolve(null);\n",
              "    };\n",
              "  });\n",
              "\n",
              "  // Wait for the user to pick the files.\n",
              "  const files = yield {\n",
              "    promise: Promise.race([pickedPromise, cancelPromise]),\n",
              "    response: {\n",
              "      action: 'starting',\n",
              "    }\n",
              "  };\n",
              "\n",
              "  cancel.remove();\n",
              "\n",
              "  // Disable the input element since further picks are not allowed.\n",
              "  inputElement.disabled = true;\n",
              "\n",
              "  if (!files) {\n",
              "    return {\n",
              "      response: {\n",
              "        action: 'complete',\n",
              "      }\n",
              "    };\n",
              "  }\n",
              "\n",
              "  for (const file of files) {\n",
              "    const li = document.createElement('li');\n",
              "    li.append(span(file.name, {fontWeight: 'bold'}));\n",
              "    li.append(span(\n",
              "        `(${file.type || 'n/a'}) - ${file.size} bytes, ` +\n",
              "        `last modified: ${\n",
              "            file.lastModifiedDate ? file.lastModifiedDate.toLocaleDateString() :\n",
              "                                    'n/a'} - `));\n",
              "    const percent = span('0% done');\n",
              "    li.appendChild(percent);\n",
              "\n",
              "    outputElement.appendChild(li);\n",
              "\n",
              "    const fileDataPromise = new Promise((resolve) => {\n",
              "      const reader = new FileReader();\n",
              "      reader.onload = (e) => {\n",
              "        resolve(e.target.result);\n",
              "      };\n",
              "      reader.readAsArrayBuffer(file);\n",
              "    });\n",
              "    // Wait for the data to be ready.\n",
              "    let fileData = yield {\n",
              "      promise: fileDataPromise,\n",
              "      response: {\n",
              "        action: 'continue',\n",
              "      }\n",
              "    };\n",
              "\n",
              "    // Use a chunked sending to avoid message size limits. See b/62115660.\n",
              "    let position = 0;\n",
              "    do {\n",
              "      const length = Math.min(fileData.byteLength - position, MAX_PAYLOAD_SIZE);\n",
              "      const chunk = new Uint8Array(fileData, position, length);\n",
              "      position += length;\n",
              "\n",
              "      const base64 = btoa(String.fromCharCode.apply(null, chunk));\n",
              "      yield {\n",
              "        response: {\n",
              "          action: 'append',\n",
              "          file: file.name,\n",
              "          data: base64,\n",
              "        },\n",
              "      };\n",
              "\n",
              "      let percentDone = fileData.byteLength === 0 ?\n",
              "          100 :\n",
              "          Math.round((position / fileData.byteLength) * 100);\n",
              "      percent.textContent = `${percentDone}% done`;\n",
              "\n",
              "    } while (position < fileData.byteLength);\n",
              "  }\n",
              "\n",
              "  // All done.\n",
              "  yield {\n",
              "    response: {\n",
              "      action: 'complete',\n",
              "    }\n",
              "  };\n",
              "}\n",
              "\n",
              "scope.google = scope.google || {};\n",
              "scope.google.colab = scope.google.colab || {};\n",
              "scope.google.colab._files = {\n",
              "  _uploadFiles,\n",
              "  _uploadFilesContinue,\n",
              "};\n",
              "})(self);\n",
              "</script> "
            ]
          },
          "metadata": {}
        },
        {
          "output_type": "stream",
          "name": "stdout",
          "text": [
            "Saving winequality-red.csv to winequality-red.csv\n"
          ]
        }
      ]
    },
    {
      "cell_type": "code",
      "source": [
        "#Loading dataset\n",
        "wine = pd.read_csv(io.BytesIO(uploaded['winequality-red.csv']))\n",
        "print(wine)"
      ],
      "metadata": {
        "_cell_guid": "800f9ff4-79bf-4785-9569-23e1d9b9b03b",
        "_uuid": "07c8409e4eccd80507d9846e8cc70ea42e58cbe6",
        "collapsed": true,
        "jupyter": {
          "outputs_hidden": true
        },
        "colab": {
          "base_uri": "https://localhost:8080/"
        },
        "id": "xqNZF65-Du6h",
        "outputId": "f63d0f40-d363-4263-ae17-6bd43c8e3cb9"
      },
      "execution_count": null,
      "outputs": [
        {
          "output_type": "stream",
          "name": "stdout",
          "text": [
            "      fixed acidity  volatile acidity  citric acid  residual sugar  chlorides  \\\n",
            "0               7.4             0.700         0.00             1.9      0.076   \n",
            "1               7.8             0.880         0.00             2.6      0.098   \n",
            "2               7.8             0.760         0.04             2.3      0.092   \n",
            "3              11.2             0.280         0.56             1.9      0.075   \n",
            "4               7.4             0.700         0.00             1.9      0.076   \n",
            "...             ...               ...          ...             ...        ...   \n",
            "1594            6.2             0.600         0.08             2.0      0.090   \n",
            "1595            5.9             0.550         0.10             2.2      0.062   \n",
            "1596            6.3             0.510         0.13             2.3      0.076   \n",
            "1597            5.9             0.645         0.12             2.0      0.075   \n",
            "1598            6.0             0.310         0.47             3.6      0.067   \n",
            "\n",
            "      free sulfur dioxide  total sulfur dioxide  density    pH  sulphates  \\\n",
            "0                    11.0                  34.0  0.99780  3.51       0.56   \n",
            "1                    25.0                  67.0  0.99680  3.20       0.68   \n",
            "2                    15.0                  54.0  0.99700  3.26       0.65   \n",
            "3                    17.0                  60.0  0.99800  3.16       0.58   \n",
            "4                    11.0                  34.0  0.99780  3.51       0.56   \n",
            "...                   ...                   ...      ...   ...        ...   \n",
            "1594                 32.0                  44.0  0.99490  3.45       0.58   \n",
            "1595                 39.0                  51.0  0.99512  3.52       0.76   \n",
            "1596                 29.0                  40.0  0.99574  3.42       0.75   \n",
            "1597                 32.0                  44.0  0.99547  3.57       0.71   \n",
            "1598                 18.0                  42.0  0.99549  3.39       0.66   \n",
            "\n",
            "      alcohol  quality  \n",
            "0         9.4        5  \n",
            "1         9.8        5  \n",
            "2         9.8        5  \n",
            "3         9.8        6  \n",
            "4         9.4        5  \n",
            "...       ...      ...  \n",
            "1594     10.5        5  \n",
            "1595     11.2        6  \n",
            "1596     11.0        6  \n",
            "1597     10.2        5  \n",
            "1598     11.0        6  \n",
            "\n",
            "[1599 rows x 12 columns]\n"
          ]
        }
      ]
    },
    {
      "cell_type": "code",
      "source": [
        "#Let's check how the data is distributed\n",
        "wine.head()"
      ],
      "metadata": {
        "_cell_guid": "019cbcee-6cb2-478c-922b-ccebe4962769",
        "_uuid": "45ff42953e9082cd55612a4774408cc97a05fb11",
        "colab": {
          "base_uri": "https://localhost:8080/",
          "height": 206
        },
        "id": "qItOCxq4Du6j",
        "outputId": "059c4c6c-24fe-4cfa-94b1-acc9c22c1141"
      },
      "execution_count": null,
      "outputs": [
        {
          "output_type": "execute_result",
          "data": {
            "text/plain": [
              "   fixed acidity  volatile acidity  citric acid  residual sugar  chlorides  \\\n",
              "0            7.4              0.70         0.00             1.9      0.076   \n",
              "1            7.8              0.88         0.00             2.6      0.098   \n",
              "2            7.8              0.76         0.04             2.3      0.092   \n",
              "3           11.2              0.28         0.56             1.9      0.075   \n",
              "4            7.4              0.70         0.00             1.9      0.076   \n",
              "\n",
              "   free sulfur dioxide  total sulfur dioxide  density    pH  sulphates  \\\n",
              "0                 11.0                  34.0   0.9978  3.51       0.56   \n",
              "1                 25.0                  67.0   0.9968  3.20       0.68   \n",
              "2                 15.0                  54.0   0.9970  3.26       0.65   \n",
              "3                 17.0                  60.0   0.9980  3.16       0.58   \n",
              "4                 11.0                  34.0   0.9978  3.51       0.56   \n",
              "\n",
              "   alcohol  quality  \n",
              "0      9.4        5  \n",
              "1      9.8        5  \n",
              "2      9.8        5  \n",
              "3      9.8        6  \n",
              "4      9.4        5  "
            ],
            "text/html": [
              "\n",
              "  <div id=\"df-ee1f469b-55c9-4a26-a417-babb20567353\">\n",
              "    <div class=\"colab-df-container\">\n",
              "      <div>\n",
              "<style scoped>\n",
              "    .dataframe tbody tr th:only-of-type {\n",
              "        vertical-align: middle;\n",
              "    }\n",
              "\n",
              "    .dataframe tbody tr th {\n",
              "        vertical-align: top;\n",
              "    }\n",
              "\n",
              "    .dataframe thead th {\n",
              "        text-align: right;\n",
              "    }\n",
              "</style>\n",
              "<table border=\"1\" class=\"dataframe\">\n",
              "  <thead>\n",
              "    <tr style=\"text-align: right;\">\n",
              "      <th></th>\n",
              "      <th>fixed acidity</th>\n",
              "      <th>volatile acidity</th>\n",
              "      <th>citric acid</th>\n",
              "      <th>residual sugar</th>\n",
              "      <th>chlorides</th>\n",
              "      <th>free sulfur dioxide</th>\n",
              "      <th>total sulfur dioxide</th>\n",
              "      <th>density</th>\n",
              "      <th>pH</th>\n",
              "      <th>sulphates</th>\n",
              "      <th>alcohol</th>\n",
              "      <th>quality</th>\n",
              "    </tr>\n",
              "  </thead>\n",
              "  <tbody>\n",
              "    <tr>\n",
              "      <th>0</th>\n",
              "      <td>7.4</td>\n",
              "      <td>0.70</td>\n",
              "      <td>0.00</td>\n",
              "      <td>1.9</td>\n",
              "      <td>0.076</td>\n",
              "      <td>11.0</td>\n",
              "      <td>34.0</td>\n",
              "      <td>0.9978</td>\n",
              "      <td>3.51</td>\n",
              "      <td>0.56</td>\n",
              "      <td>9.4</td>\n",
              "      <td>5</td>\n",
              "    </tr>\n",
              "    <tr>\n",
              "      <th>1</th>\n",
              "      <td>7.8</td>\n",
              "      <td>0.88</td>\n",
              "      <td>0.00</td>\n",
              "      <td>2.6</td>\n",
              "      <td>0.098</td>\n",
              "      <td>25.0</td>\n",
              "      <td>67.0</td>\n",
              "      <td>0.9968</td>\n",
              "      <td>3.20</td>\n",
              "      <td>0.68</td>\n",
              "      <td>9.8</td>\n",
              "      <td>5</td>\n",
              "    </tr>\n",
              "    <tr>\n",
              "      <th>2</th>\n",
              "      <td>7.8</td>\n",
              "      <td>0.76</td>\n",
              "      <td>0.04</td>\n",
              "      <td>2.3</td>\n",
              "      <td>0.092</td>\n",
              "      <td>15.0</td>\n",
              "      <td>54.0</td>\n",
              "      <td>0.9970</td>\n",
              "      <td>3.26</td>\n",
              "      <td>0.65</td>\n",
              "      <td>9.8</td>\n",
              "      <td>5</td>\n",
              "    </tr>\n",
              "    <tr>\n",
              "      <th>3</th>\n",
              "      <td>11.2</td>\n",
              "      <td>0.28</td>\n",
              "      <td>0.56</td>\n",
              "      <td>1.9</td>\n",
              "      <td>0.075</td>\n",
              "      <td>17.0</td>\n",
              "      <td>60.0</td>\n",
              "      <td>0.9980</td>\n",
              "      <td>3.16</td>\n",
              "      <td>0.58</td>\n",
              "      <td>9.8</td>\n",
              "      <td>6</td>\n",
              "    </tr>\n",
              "    <tr>\n",
              "      <th>4</th>\n",
              "      <td>7.4</td>\n",
              "      <td>0.70</td>\n",
              "      <td>0.00</td>\n",
              "      <td>1.9</td>\n",
              "      <td>0.076</td>\n",
              "      <td>11.0</td>\n",
              "      <td>34.0</td>\n",
              "      <td>0.9978</td>\n",
              "      <td>3.51</td>\n",
              "      <td>0.56</td>\n",
              "      <td>9.4</td>\n",
              "      <td>5</td>\n",
              "    </tr>\n",
              "  </tbody>\n",
              "</table>\n",
              "</div>\n",
              "      <button class=\"colab-df-convert\" onclick=\"convertToInteractive('df-ee1f469b-55c9-4a26-a417-babb20567353')\"\n",
              "              title=\"Convert this dataframe to an interactive table.\"\n",
              "              style=\"display:none;\">\n",
              "        \n",
              "  <svg xmlns=\"http://www.w3.org/2000/svg\" height=\"24px\"viewBox=\"0 0 24 24\"\n",
              "       width=\"24px\">\n",
              "    <path d=\"M0 0h24v24H0V0z\" fill=\"none\"/>\n",
              "    <path d=\"M18.56 5.44l.94 2.06.94-2.06 2.06-.94-2.06-.94-.94-2.06-.94 2.06-2.06.94zm-11 1L8.5 8.5l.94-2.06 2.06-.94-2.06-.94L8.5 2.5l-.94 2.06-2.06.94zm10 10l.94 2.06.94-2.06 2.06-.94-2.06-.94-.94-2.06-.94 2.06-2.06.94z\"/><path d=\"M17.41 7.96l-1.37-1.37c-.4-.4-.92-.59-1.43-.59-.52 0-1.04.2-1.43.59L10.3 9.45l-7.72 7.72c-.78.78-.78 2.05 0 2.83L4 21.41c.39.39.9.59 1.41.59.51 0 1.02-.2 1.41-.59l7.78-7.78 2.81-2.81c.8-.78.8-2.07 0-2.86zM5.41 20L4 18.59l7.72-7.72 1.47 1.35L5.41 20z\"/>\n",
              "  </svg>\n",
              "      </button>\n",
              "      \n",
              "  <style>\n",
              "    .colab-df-container {\n",
              "      display:flex;\n",
              "      flex-wrap:wrap;\n",
              "      gap: 12px;\n",
              "    }\n",
              "\n",
              "    .colab-df-convert {\n",
              "      background-color: #E8F0FE;\n",
              "      border: none;\n",
              "      border-radius: 50%;\n",
              "      cursor: pointer;\n",
              "      display: none;\n",
              "      fill: #1967D2;\n",
              "      height: 32px;\n",
              "      padding: 0 0 0 0;\n",
              "      width: 32px;\n",
              "    }\n",
              "\n",
              "    .colab-df-convert:hover {\n",
              "      background-color: #E2EBFA;\n",
              "      box-shadow: 0px 1px 2px rgba(60, 64, 67, 0.3), 0px 1px 3px 1px rgba(60, 64, 67, 0.15);\n",
              "      fill: #174EA6;\n",
              "    }\n",
              "\n",
              "    [theme=dark] .colab-df-convert {\n",
              "      background-color: #3B4455;\n",
              "      fill: #D2E3FC;\n",
              "    }\n",
              "\n",
              "    [theme=dark] .colab-df-convert:hover {\n",
              "      background-color: #434B5C;\n",
              "      box-shadow: 0px 1px 3px 1px rgba(0, 0, 0, 0.15);\n",
              "      filter: drop-shadow(0px 1px 2px rgba(0, 0, 0, 0.3));\n",
              "      fill: #FFFFFF;\n",
              "    }\n",
              "  </style>\n",
              "\n",
              "      <script>\n",
              "        const buttonEl =\n",
              "          document.querySelector('#df-ee1f469b-55c9-4a26-a417-babb20567353 button.colab-df-convert');\n",
              "        buttonEl.style.display =\n",
              "          google.colab.kernel.accessAllowed ? 'block' : 'none';\n",
              "\n",
              "        async function convertToInteractive(key) {\n",
              "          const element = document.querySelector('#df-ee1f469b-55c9-4a26-a417-babb20567353');\n",
              "          const dataTable =\n",
              "            await google.colab.kernel.invokeFunction('convertToInteractive',\n",
              "                                                     [key], {});\n",
              "          if (!dataTable) return;\n",
              "\n",
              "          const docLinkHtml = 'Like what you see? Visit the ' +\n",
              "            '<a target=\"_blank\" href=https://colab.research.google.com/notebooks/data_table.ipynb>data table notebook</a>'\n",
              "            + ' to learn more about interactive tables.';\n",
              "          element.innerHTML = '';\n",
              "          dataTable['output_type'] = 'display_data';\n",
              "          await google.colab.output.renderOutput(dataTable, element);\n",
              "          const docLink = document.createElement('div');\n",
              "          docLink.innerHTML = docLinkHtml;\n",
              "          element.appendChild(docLink);\n",
              "        }\n",
              "      </script>\n",
              "    </div>\n",
              "  </div>\n",
              "  "
            ]
          },
          "metadata": {},
          "execution_count": 7
        }
      ]
    },
    {
      "cell_type": "code",
      "source": [
        "#Information about the data columns\n",
        "wine.info()"
      ],
      "metadata": {
        "_cell_guid": "704f4830-5804-436d-9b78-6ca00f5ae510",
        "_uuid": "af141503385967f92d409c5e111e2724b4c9636f",
        "colab": {
          "base_uri": "https://localhost:8080/"
        },
        "id": "4_3OmZgtDu6j",
        "outputId": "b9e14fca-15c0-46a4-ef3b-31f1abcb629e"
      },
      "execution_count": null,
      "outputs": [
        {
          "output_type": "stream",
          "name": "stdout",
          "text": [
            "<class 'pandas.core.frame.DataFrame'>\n",
            "RangeIndex: 1599 entries, 0 to 1598\n",
            "Data columns (total 12 columns):\n",
            " #   Column                Non-Null Count  Dtype  \n",
            "---  ------                --------------  -----  \n",
            " 0   fixed acidity         1599 non-null   float64\n",
            " 1   volatile acidity      1599 non-null   float64\n",
            " 2   citric acid           1599 non-null   float64\n",
            " 3   residual sugar        1599 non-null   float64\n",
            " 4   chlorides             1599 non-null   float64\n",
            " 5   free sulfur dioxide   1599 non-null   float64\n",
            " 6   total sulfur dioxide  1599 non-null   float64\n",
            " 7   density               1599 non-null   float64\n",
            " 8   pH                    1599 non-null   float64\n",
            " 9   sulphates             1599 non-null   float64\n",
            " 10  alcohol               1599 non-null   float64\n",
            " 11  quality               1599 non-null   int64  \n",
            "dtypes: float64(11), int64(1)\n",
            "memory usage: 150.0 KB\n"
          ]
        }
      ]
    },
    {
      "cell_type": "markdown",
      "source": [
        "## **Let's do some plotting to know how the data columns are distributed in the dataset**"
      ],
      "metadata": {
        "_cell_guid": "12b9e3c1-006d-4b1d-b01d-02be5a594bbb",
        "_uuid": "e9ad3ce0e67ea7a5178222164d784a974846bc54",
        "id": "qLaZIIfsDu6k"
      }
    },
    {
      "cell_type": "code",
      "source": [
        "#Here we see that fixed acidity does not give any specification to classify the quality.\n",
        "fig = plt.figure(figsize = (10,6))    #figsize is a tuple of the width and height of the figure in inches\n",
        "sns.barplot(x = 'quality', y = 'fixed acidity', data = wine)"
      ],
      "metadata": {
        "_cell_guid": "f6a9d2eb-e03c-4c8b-8d7f-c0cb735d9ce9",
        "_uuid": "255e8fd04c90eae23164df043ebf16550ecff8fe",
        "colab": {
          "base_uri": "https://localhost:8080/",
          "height": 405
        },
        "id": "-4BGoDpIDu6k",
        "outputId": "cbf92457-4f17-4088-d2a1-cd584e2ff589"
      },
      "execution_count": null,
      "outputs": [
        {
          "output_type": "execute_result",
          "data": {
            "text/plain": [
              "<AxesSubplot:xlabel='quality', ylabel='fixed acidity'>"
            ]
          },
          "metadata": {},
          "execution_count": 9
        },
        {
          "output_type": "display_data",
          "data": {
            "text/plain": [
              "<Figure size 720x432 with 1 Axes>"
            ],
            "image/png": "[encoded data removed]"
          },
          "metadata": {
            "needs_background": "light"
          }
        }
      ]
    },
    {
      "cell_type": "code",
      "source": [
        "#Here we see that its quite a downing trend in the volatile acidity as we go higher the quality \n",
        "fig = plt.figure(figsize = (10,6))\n",
        "sns.barplot(x = 'quality', y = 'volatile acidity', data = wine)"
      ],
      "metadata": {
        "_cell_guid": "7d7355dc-9c09-4e5e-8989-87f903197898",
        "_uuid": "158a576b3fb80cc0978c322663bc5060d8977be0",
        "id": "LzhLj5XJDu6k"
      },
      "execution_count": null,
      "outputs": []
    },
    {
      "cell_type": "code",
      "source": [
        "#Composition of citric acid go higher as we go higher in the quality of the wine\n",
        "fig = plt.figure(figsize = (10,6))\n",
        "sns.barplot(x = 'quality', y = 'citric acid', data = wine)"
      ],
      "metadata": {
        "_cell_guid": "08f073d3-787b-4956-899b-6bd2bdf3cf91",
        "_uuid": "9600cd337636a7860a908fa36ad8084e230829ca",
        "id": "SvuBRHXTDu6l"
      },
      "execution_count": null,
      "outputs": []
    },
    {
      "cell_type": "code",
      "source": [
        "fig = plt.figure(figsize = (10,6))\n",
        "sns.barplot(x = 'quality', y = 'residual sugar', data = wine)"
      ],
      "metadata": {
        "_cell_guid": "7dcb76bc-3436-46bd-9d7f-78ccd436517e",
        "_uuid": "6b017770cef61eefb34b4607218c77f933350389",
        "id": "eqPChEt_Du6m"
      },
      "execution_count": null,
      "outputs": []
    },
    {
      "cell_type": "code",
      "source": [
        "#Composition of chloride also go down as we go higher in the quality of the wine\n",
        "fig = plt.figure(figsize = (10,6))\n",
        "sns.barplot(x = 'quality', y = 'chlorides', data = wine)"
      ],
      "metadata": {
        "_cell_guid": "76463630-67d9-4b07-8076-fba8b49a9921",
        "_uuid": "31fe5d393946e406cbe62d3f4c7951e0b493c454",
        "id": "ETthVBctDu6m"
      },
      "execution_count": null,
      "outputs": []
    },
    {
      "cell_type": "code",
      "source": [
        "fig = plt.figure(figsize = (10,6))\n",
        "sns.barplot(x = 'quality', y = 'free sulfur dioxide', data = wine)"
      ],
      "metadata": {
        "_cell_guid": "6abcf7a2-cc7a-4673-a905-6ee0c2cc9e15",
        "_uuid": "6ba9a0dafe8e1042da4dbcaa93706dd46cf3a85c",
        "id": "sqQWngasDu6n"
      },
      "execution_count": null,
      "outputs": []
    },
    {
      "cell_type": "code",
      "source": [
        "fig = plt.figure(figsize = (10,6))\n",
        "sns.barplot(x = 'quality', y = 'total sulfur dioxide', data = wine)"
      ],
      "metadata": {
        "_cell_guid": "9acea621-2b7b-44b7-a0fa-b984dd8c0e93",
        "_uuid": "d99c6e4033da73cdc9d9977ac045372ff9af1c53",
        "id": "IkcU_j8nDu6n"
      },
      "execution_count": null,
      "outputs": []
    },
    {
      "cell_type": "code",
      "source": [
        "#Sulphates level goes higher with the quality of wine\n",
        "fig = plt.figure(figsize = (10,6))\n",
        "sns.barplot(x = 'quality', y = 'sulphates', data = wine)"
      ],
      "metadata": {
        "_cell_guid": "bf0b1aa4-8a6c-4f95-80c3-7554b38a9c96",
        "_uuid": "ae9a7496f5c238ec9bb95729b17960c6e48efe35",
        "id": "CHRKu1RqDu6o"
      },
      "execution_count": null,
      "outputs": []
    },
    {
      "cell_type": "code",
      "source": [
        "#Alcohol level also goes higher as te quality of wine increases\n",
        "fig = plt.figure(figsize = (10,6))\n",
        "sns.barplot(x = 'quality', y = 'alcohol', data = wine)"
      ],
      "metadata": {
        "_cell_guid": "04f51b1d-6315-44d3-986c-ed82fc996ad3",
        "_uuid": "81efa0b7799cd731aff98cffeaa28c361a7375a5",
        "id": "w_TuLd95Du6p"
      },
      "execution_count": null,
      "outputs": []
    },
    {
      "cell_type": "markdown",
      "source": [
        "## Preprocessing Data for performing Machine learning algorithms"
      ],
      "metadata": {
        "_cell_guid": "9838ca3d-4b89-4503-9d7e-247cc3a9730b",
        "_uuid": "974be3136a2f13bf26a88b26cbddbf73f5cafda9",
        "id": "bKx7WIIxDu6p"
      }
    },
    {
      "cell_type": "code",
      "source": [
        "#Making binary classificaion for the response variable.\n",
        "#Dividing wine as good and bad by giving the limit for the quality\n",
        "bins = (2, 6.5, 8)\n",
        "group_names = ['bad', 'good']\n",
        "wine['quality'] = pd.cut(wine['quality'], bins = bins, labels = group_names)"
      ],
      "metadata": {
        "_cell_guid": "33e1c5c0-a65a-4918-8d94-db8e4c521d50",
        "_uuid": "3f082340d1b157391052f0fa20a44aa0105ce987",
        "collapsed": true,
        "jupyter": {
          "outputs_hidden": true
        },
        "id": "gRdSmxooDu6p"
      },
      "execution_count": null,
      "outputs": []
    },
    {
      "cell_type": "code",
      "source": [
        "#Now lets assign a labels to our quality variable\n",
        "label_quality = LabelEncoder()    #LabelEncoder is not an algorithm of machine learning, but rather a data preprocessing technique that is commonly used in machine learning workflows.\n",
        "#LabelEncoder is a function from the scikit-learn library in Python that converts categorical variables (i.e., variables that take on a limited set of values) into numeric labels. This is often necessary because many machine learning algorithms require numeric inputs, and cannot handle categorical variables directly.\n",
        "#For example, suppose we have a dataset of wine reviews, and one of the variables is \"variety\", which takes on values like \"Chardonnay\", \"Pinot Noir\", \"Cabernet Sauvignon\", and so on. We could use LabelEncoder to convert these values into numeric labels, like 0, 1, 2, etc."
      ],
      "metadata": {
        "_cell_guid": "21a15507-cc97-4c40-835b-51fd79f7cdd9",
        "_uuid": "87127b3c5e9493a9364b3c63401ddb11a51373a1",
        "collapsed": true,
        "jupyter": {
          "outputs_hidden": true
        },
        "id": "GxymrOAoDu6q"
      },
      "execution_count": null,
      "outputs": []
    },
    {
      "cell_type": "code",
      "source": [
        "#Bad becomes 0 and good becomes 1 \n",
        "wine['quality'] = label_quality.fit_transform(wine['quality'])"
      ],
      "metadata": {
        "_cell_guid": "f4c3a886-4b1f-4533-a660-b7ffb66376c2",
        "_uuid": "a592e2b8ece55e8d5928241eb5b9188226a725bf",
        "collapsed": true,
        "jupyter": {
          "outputs_hidden": true
        },
        "id": "QNi2qfeQDu6q"
      },
      "execution_count": null,
      "outputs": []
    },
    {
      "cell_type": "code",
      "source": [
        "wine['quality'].value_counts()"
      ],
      "metadata": {
        "_cell_guid": "faa36f65-7e80-44d7-a4f8-10e482cec684",
        "_uuid": "65a97517331f835cade698b594a7376ea7778eeb",
        "id": "moWMS2pXDu6q"
      },
      "execution_count": null,
      "outputs": []
    },
    {
      "cell_type": "code",
      "source": [
        "sns.countplot(wine['quality'])"
      ],
      "metadata": {
        "_cell_guid": "2fe7339e-837e-48c0-b988-a36c89632844",
        "_uuid": "d2a4c7e14dc6b8faa31efd1fcbe4f61b80a7d3e1",
        "id": "AqGS_wnvDu6r"
      },
      "execution_count": null,
      "outputs": []
    },
    {
      "cell_type": "code",
      "source": [
        "#Now seperate the dataset as response variable(dependent variable or target variable) and feature variabes( independent variables, input variables )\n",
        "X = wine.drop('quality', axis = 1)    # the response variable is the variable being predicted or modeled, while the feature variables are the input variables used to make the prediction or model.\n",
        "y = wine['quality'] "
      ],
      "metadata": {
        "_cell_guid": "ba89712a-ad66-4a92-9214-4e35c3802d59",
        "_uuid": "b893deb26bb309c914de12aadf9ad8437deb8358",
        "collapsed": true,
        "jupyter": {
          "outputs_hidden": true
        },
        "id": "qWNkt2XBDu6r"
      },
      "execution_count": null,
      "outputs": []
    },
    {
      "cell_type": "code",
      "source": [
        "#Train and Test splitting of data \n",
        "X_train, X_test, y_train, y_test = train_test_split(X, y, test_size = 0.2, random_state = 42)\n",
        "#X_train  It typically consists of a set of input features (i.e., independent variables) that are used to predict the output variable (i.e., dependent variable).\n",
        "# X_test  It also consists of input features, but it is used to make predictions and compare them with the actual output values.\n",
        "# y_train This is the output variable (i.e., dependent variable) for the training dataset. It contains the actual values\n",
        "# y_test This is the output variable (i.e., dependent variable) for the testing dataset."
      ],
      "metadata": {
        "_cell_guid": "d7703d9a-3397-4c42-9b38-6f341cac1cde",
        "_uuid": "bdfc0f6ba146f947f265fd493e8327366fdb5c9a",
        "collapsed": true,
        "jupyter": {
          "outputs_hidden": true
        },
        "id": "T9dZ4iyJDu6r"
      },
      "execution_count": null,
      "outputs": []
    },
    {
      "cell_type": "markdown",
      "source": [
        "the purpose of StandardScaler is to transform the features of a dataset so that they have a standard scale and distribution. This is important because some machine learning algorithms may be sensitive to the scale and distribution of the input features. By scaling the features to have the same range and distribution, we can help the machine learning algorithm to better understand the relative importance of each feature and make better predictions. In other words, the StandardScaler ensures that all features are weighted equally during the training process, which can improve the accuracy and reliability of the machine learning model."
      ],
      "metadata": {
        "id": "R7qNZv8APNcS"
      }
    },
    {
      "cell_type": "code",
      "source": [
        "#Applying Standard scaling to get optimized result\n",
        "sc = StandardScaler()\n",
        "\n",
        "#The StandardScaler is a preprocessing technique used to scale the input features to a standard range of values. \n",
        "#It transforms the input features by subtracting the mean and dividing by the standard deviation, so that the scaled features have zero mean and unit variance.\n",
        "\n",
        "#  When using machine learning algorithms, it is important to scale the features to a similar range to prevent the algorithm from overemphasizing some features over others."
      ],
      "metadata": {
        "_cell_guid": "cef31289-9cec-4ab1-afea-2ff34c36fec1",
        "_uuid": "ca68209bcd596b3cfcaf42837e4a6e49b6c12974",
        "collapsed": true,
        "jupyter": {
          "outputs_hidden": true
        },
        "id": "tPKlzlvfDu6r"
      },
      "execution_count": null,
      "outputs": []
    },
    {
      "cell_type": "code",
      "source": [
        "# To use the StandardScaler in the wine quality prediction project, we can first split the dataset into X_train and X_test subsets as described in the previous answer. \n",
        "# Then, we can apply the StandardScaler on the training set and use the same scaler to transform the testing set. This ensures that both the training and testing sets are scaled in the same way.\n",
        "\n",
        "X_train = sc.fit_transform(X_train)\n",
        "X_test = sc.fit_transform(X_test)"
      ],
      "metadata": {
        "_cell_guid": "705b8e8a-a6d3-4e93-8b53-7c677b5b88c4",
        "_uuid": "7878194b0c4935904c68a88a91e18f9bbbabbda7",
        "collapsed": true,
        "jupyter": {
          "outputs_hidden": true
        },
        "id": "ZmJoDtxlDu6s"
      },
      "execution_count": null,
      "outputs": []
    },
    {
      "cell_type": "markdown",
      "source": [
        "## Our training and testing data is ready now to perform machine learning algorithm"
      ],
      "metadata": {
        "_cell_guid": "645e952e-09b5-48df-9d08-aa6454ef333a",
        "_uuid": "3fd28a9b12fd0f5a00bc0add378ca1f9632bc319",
        "id": "fccYYg2pDu6s"
      }
    },
    {
      "cell_type": "markdown",
      "source": [
        "### Random Forest Classifier"
      ],
      "metadata": {
        "_cell_guid": "0a12868b-8780-43b9-ae70-4c849407aac6",
        "_uuid": "093572f70cda59063611c1c888974e6a863ec7ef",
        "id": "6MqI5MBoDu6s"
      }
    },
    {
      "cell_type": "code",
      "source": [
        "rfc = RandomForestClassifier(n_estimators=200) # These hyperparameters control the number of trees in the forest\n",
        "rfc.fit(X_train, y_train)\n",
        "pred_rfc = rfc.predict(X_test)"
      ],
      "metadata": {
        "_cell_guid": "f7d2ca14-40fa-4b7c-b902-d47f09214c75",
        "_uuid": "4c2c2a071bde3b44adf031a6807f51b47f8b5eaa",
        "collapsed": true,
        "jupyter": {
          "outputs_hidden": true
        },
        "id": "VsJK5SeLDu6s"
      },
      "execution_count": null,
      "outputs": []
    },
    {
      "cell_type": "markdown",
      "source": [
        "The fit method trains the Random Forest model on the training data by building a forest of decision trees and optimizing the splits of the trees to minimize the mean squared error between the predicted quality scores and the actual quality scores. "
      ],
      "metadata": {
        "id": "UiHS9az6U8D0"
      }
    },
    {
      "cell_type": "code",
      "source": [
        "#Let's see how our model performed\n",
        "print(classification_report(y_test, pred_rfc))"
      ],
      "metadata": {
        "_cell_guid": "1cc15e56-0589-4fa3-a4f1-6f5e7b5547b2",
        "_uuid": "61e8a79a7db4fef289b8d4e3b3dd8e1c01756697",
        "id": "bakKPAixDu6s"
      },
      "execution_count": null,
      "outputs": []
    },
    {
      "cell_type": "markdown",
      "source": [
        "Precision = True Positives / (True Positives + False Positives)\n",
        "\n",
        "Recall = True Positives / (True Positives + False Negatives)\n",
        "\n",
        "F1-score = 2 * (Precision * Recall) / (Precision + Recall)"
      ],
      "metadata": {
        "id": "KbDKvWjlW4bb"
      }
    },
    {
      "cell_type": "markdown",
      "source": [
        "#### Random forest gives the accuracy of 87%"
      ],
      "metadata": {
        "_cell_guid": "6fc282fd-9db3-4c69-bf91-f9daaaec615b",
        "_uuid": "eaa7b2cbb80adbb06133b9cd89a8ebae014dc3e8",
        "id": "OcletyY-Du6s"
      }
    },
    {
      "cell_type": "code",
      "source": [
        "#Confusion matrix for the random forest classification\n",
        "print(confusion_matrix(y_test, pred_rfc))"
      ],
      "metadata": {
        "_cell_guid": "84334dbd-d36c-4650-87ab-d3e8f73be63c",
        "_uuid": "0fd8c7cd7741be25fd0d5f56d5711e8aaf44ac0f",
        "id": "A_6C-y4kDu6t"
      },
      "execution_count": null,
      "outputs": []
    },
    {
      "cell_type": "markdown",
      "source": [
        "True Positive (TP): The number of correctly predicted positive instances.\n",
        "\n",
        "False Positive (FP): The number of incorrectly predicted positive instances.\n",
        "\n",
        "True Negative (TN): The number of correctly predicted negative instances.\n",
        "\n",
        "False Negative (FN): The number of incorrectly predicted negative instances"
      ],
      "metadata": {
        "id": "X_avIqvkXl9L"
      }
    },
    {
      "cell_type": "markdown",
      "source": [
        "![image.png](data:image/png;base64,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)"
      ],
      "metadata": {
        "id": "nsA7f0MjXL-I"
      }
    },
    {
      "cell_type": "markdown",
      "source": [
        "## Support Vector Classifier"
      ],
      "metadata": {
        "_cell_guid": "eda98e5a-552d-4318-8ae7-1fc45c360be4",
        "_uuid": "9ec5e14c6c24713d6b6e0aaa76ddc5d45886c626",
        "id": "zK0uHvvpDu6u"
      }
    },
    {
      "cell_type": "markdown",
      "source": [
        "During the training phase, the SVM algorithm finds the hyperplane that best separates the training data into their respective classes. The hyperplane is determined by finding the maximum margin between the training data points and the decision boundary. The margin is the distance between the hyperplane and the nearest data points from each class.\n",
        "\n",
        "Once the hyperplane has been identified, the SVM algorithm can use it to predict the class of new, unseen data points. The algorithm computes the distance between the new data point and the hyperplane, and based on the side of the hyperplane that the data point falls on, it is classified as belonging to one of the classes."
      ],
      "metadata": {
        "id": "vEi9HMkcfwpU"
      }
    },
    {
      "cell_type": "markdown",
      "source": [
        "Support Vector Classifier (SVC) is a variant of SVM used for classification tasks. It works by finding the optimal hyperplane that separates the data points belonging to different classes, while maximizing the margin."
      ],
      "metadata": {
        "id": "zAsWFE8ub9e2"
      }
    },
    {
      "cell_type": "markdown",
      "source": [],
      "metadata": {
        "id": "EWOQRxTNeFX9"
      }
    },
    {
      "cell_type": "code",
      "source": [
        "svc = SVC()\n",
        "svc.fit(X_train, y_train)\n",
        "pred_svc = svc.predict(X_test)"
      ],
      "metadata": {
        "_cell_guid": "c09c2885-0ae7-424b-8bfb-8d60eeab8910",
        "_uuid": "432c960068fac4d27d9be14a39ac0fe92933f532",
        "collapsed": true,
        "jupyter": {
          "outputs_hidden": true
        },
        "id": "KyuXe0BEDu6u"
      },
      "execution_count": null,
      "outputs": []
    },
    {
      "cell_type": "code",
      "source": [
        "print(classification_report(y_test, pred_svc))"
      ],
      "metadata": {
        "_cell_guid": "a9bd5ed8-fed7-4d12-8f84-ee02b345f7f3",
        "_uuid": "bc3c13a5596baf43c4c40dbddea247e3ee470d31",
        "id": "mnctEztcDu6u"
      },
      "execution_count": null,
      "outputs": []
    },
    {
      "cell_type": "markdown",
      "source": [
        "#### Support vector classifier gets 86%"
      ],
      "metadata": {
        "_cell_guid": "253d6200-8035-400c-a022-00d2bbd7f045",
        "_uuid": "3d4ac7ee94b2a081d5cb8caa1cfd99e41b8940fb",
        "id": "4dEn-Bg0Du6u"
      }
    },
    {
      "cell_type": "markdown",
      "source": [
        "## Let's try to increase our accuracy of models\n",
        "## Grid Search CV"
      ],
      "metadata": {
        "_cell_guid": "ea15f1a9-eec6-4d08-a68d-8e3fce6f6b8a",
        "_uuid": "b11f94fdee6a4bfed980793d94ad5c17e33b7d39",
        "id": "G-qJ2rdCDu6v"
      }
    },
    {
      "cell_type": "markdown",
      "source": [
        "Grid Search CV is a technique used in machine learning to tune hyperparameters of a model by searching over a range of values for each hyperparameter and finding the combination that yields the best performance."
      ],
      "metadata": {
        "id": "tjShjrORdtzt"
      }
    },
    {
      "cell_type": "markdown",
      "source": [
        "Grid Search CV is often used in conjunction with Support Vector Machines (SVMs) to find the best hyperparameters for the SVM model."
      ],
      "metadata": {
        "id": "pK5tMbgreHlC"
      }
    },
    {
      "cell_type": "code",
      "source": [
        "#Finding best parameters for our SVC model\n",
        "param = {\n",
        "    'C': [0.1,0.8,0.9,1,1.1,1.2,1.3,1.4],\n",
        "    'kernel':['linear', 'rbf'],\n",
        "    'gamma' :[0.1,0.8,0.9,1,1.1,1.2,1.3,1.4]\n",
        "}\n",
        "grid_svc = GridSearchCV(svc, param_grid=param, scoring='accuracy', cv=10)"
      ],
      "metadata": {
        "_cell_guid": "31bbdf11-00b0-4120-81f6-b7b5ac537554",
        "_uuid": "0d8fb2a1ae6909c8e44d4b51af8492c194016e4c",
        "collapsed": true,
        "jupyter": {
          "outputs_hidden": true
        },
        "id": "iV46Eh4eDu6v"
      },
      "execution_count": null,
      "outputs": []
    },
    {
      "cell_type": "markdown",
      "source": [
        "C, kernel, and gamma are hyperparameters of the Support Vector Machine (SVM) model that we are trying to optimize using GridSearchCV."
      ],
      "metadata": {
        "id": "ZHlVoe5Jdarl"
      }
    },
    {
      "cell_type": "code",
      "source": [
        "grid_svc.fit(X_train, y_train)"
      ],
      "metadata": {
        "_cell_guid": "32cbf4d6-254c-4c55-93e2-448244d89ad9",
        "_uuid": "a581f788a26862911480af8e9c2acb4385d6d79d",
        "id": "wwHXwUP3Du6v"
      },
      "execution_count": null,
      "outputs": []
    },
    {
      "cell_type": "code",
      "source": [
        "#Best parameters for our svc model\n",
        "grid_svc.best_params_"
      ],
      "metadata": {
        "_cell_guid": "55a3e439-c2e3-426e-a1a5-cd653bf8bfa9",
        "_uuid": "0d70efd0eb41271afb4ac50291aa83c6791847a3",
        "id": "8iSP8vgPDu6v"
      },
      "execution_count": null,
      "outputs": []
    },
    {
      "cell_type": "code",
      "source": [
        "#Let's run our SVC again with the best parameters.\n",
        "svc2 = SVC(C = 1.2, gamma =  0.9, kernel= 'rbf')\n",
        "svc2.fit(X_train, y_train)\n",
        "pred_svc2 = svc2.predict(X_test)\n",
        "print(classification_report(y_test, pred_svc2))"
      ],
      "metadata": {
        "_cell_guid": "362ff8bd-7cf3-48af-a93a-499b52dab0d7",
        "_uuid": "dd4a0ac5ef6c17e9e2312a03df0d82ca088c40f2",
        "id": "sIrJksOjDu6v"
      },
      "execution_count": null,
      "outputs": []
    },
    {
      "cell_type": "markdown",
      "source": [
        "### SVC improves from 86% to 90% using Grid Search CV"
      ],
      "metadata": {
        "_cell_guid": "d14b50b9-006a-490f-a626-4a2a41b843d6",
        "_uuid": "eca47cbe6600911992c4ebee60c68e3fe37a3c91",
        "id": "69oMEPZtDu6w"
      }
    },
    {
      "cell_type": "markdown",
      "source": [],
      "metadata": {
        "_cell_guid": "9cfb4b02-75c7-41ac-9ef7-0dcb2b00124e",
        "_uuid": "4b47f0260582ad526d3b8057d7f2ce96157720f1",
        "id": "bwkOmd6oDu6w"
      }
    },
    {
      "cell_type": "markdown",
      "source": [
        "## Cross Validation Score for random forest"
      ],
      "metadata": {
        "_cell_guid": "d6cd1c1f-9531-4c6a-87c1-262dd7fb6caf",
        "_uuid": "9f705df2b81e776eedc164c5d933ff4dd4c61d31",
        "id": "RQGBwdMnDu6w"
      }
    },
    {
      "cell_type": "markdown",
      "source": [
        "Cross-validation is a useful technique for evaluating the performance of Random Forest models. Random Forest is an ensemble learning algorithm that combines multiple decision trees to make predictions.\n",
        "\n",
        "In the case of Random Forest, cross-validation can be used to tune hyperparameters such as the number of trees in the forest, the maximum depth of the trees, and the number of features to consider when splitting a node. Cross-validation can also be used to evaluate the performance of the model on new, unseen data."
      ],
      "metadata": {
        "id": "6lMohxWnehCb"
      }
    },
    {
      "cell_type": "code",
      "source": [
        "#Now lets try to do some evaluation for random forest model using cross validation.\n",
        "rfc_eval = cross_val_score(estimator = rfc, X = X_train, y = y_train, cv = 10)\n",
        "rfc_eval.mean()"
      ],
      "metadata": {
        "_cell_guid": "a5507be9-a3eb-4bba-b8d5-928d015faadf",
        "_uuid": "24a7f7dc1bf59eaae6e5ea5a6f61130664fcd260",
        "id": "sKC5KBs2Du6x"
      },
      "execution_count": null,
      "outputs": []
    },
    {
      "cell_type": "markdown",
      "source": [
        "### Random forest accuracy increases from 87% to 91 % using cross validation score"
      ],
      "metadata": {
        "_cell_guid": "4a6ab3c5-4b28-442e-be48-9e3eb14a6e79",
        "_uuid": "186ca0ca24faac487ca40563c9490f94f51a433a",
        "id": "cfwgmPdaDu6x"
      }
    }
  ]
}